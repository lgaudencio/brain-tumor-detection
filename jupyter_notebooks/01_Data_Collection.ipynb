{
  "cells": [
    {
      "cell_type": "markdown",
      "metadata": {
        "id": "0aStgWSO0E0E"
      },
      "source": [
        "# **Data Collection - Brain Tumor Detection**"
      ]
    },
    {
      "cell_type": "markdown",
      "metadata": {
        "id": "1eLEkw5O0ECa"
      },
      "source": [
        "## Objectives\n",
        "\n",
        "* Import the necessary packages\n",
        "* Set working directory\n",
        "* Fetch image dataset for Kaggle but import manually due to Gitpod size restrictions of 100MB\n",
        "* Clean data so that only image files are used\n",
        "* Split the data into Test, Train and Validation folders\n",
        "\n",
        "## Inputs\n",
        "\n",
        "* Kaggle Dataset: https://www.kaggle.com/datasets/preetviradiya/brian-tumor-dataset\n",
        "* Kaggle JSON file - authentication token\n",
        "\n",
        "## Outputs\n",
        "\n",
        "\n",
        "\n",
        "## Comments/Conclusions\n",
        "\n",
        "* These steps are all necessary to fetch the data, clean it and then divide it up into subsets for the purposes of machine learning. In the next step, we will look into Data Visualisation to understand the data and discover patterns that will emerge. \n"
      ]
    },
    {
      "cell_type": "markdown",
      "metadata": {
        "id": "9uWZXH9LwoQg"
      },
      "source": [
        "---"
      ]
    },
    {
      "cell_type": "markdown",
      "metadata": {},
      "source": [
        "## Import Packages"
      ]
    },
    {
      "cell_type": "code",
      "execution_count": 1,
      "metadata": {},
      "outputs": [
        {
          "name": "stdout",
          "output_type": "stream",
          "text": [
            "Requirement already satisfied: numpy==1.19.2 in /workspace/.pyenv_mirror/user/3.8.18/lib/python3.8/site-packages (from -r /workspace/brain-tumor-detection/requirements.txt (line 2)) (1.19.2)\n",
            "Requirement already satisfied: pandas==1.1.2 in /workspace/.pyenv_mirror/user/3.8.18/lib/python3.8/site-packages (from -r /workspace/brain-tumor-detection/requirements.txt (line 3)) (1.1.2)\n",
            "Requirement already satisfied: matplotlib==3.3.1 in /workspace/.pyenv_mirror/user/3.8.18/lib/python3.8/site-packages (from -r /workspace/brain-tumor-detection/requirements.txt (line 4)) (3.3.1)\n",
            "Requirement already satisfied: seaborn==0.11.0 in /workspace/.pyenv_mirror/user/3.8.18/lib/python3.8/site-packages (from -r /workspace/brain-tumor-detection/requirements.txt (line 5)) (0.11.0)\n",
            "Requirement already satisfied: plotly==4.12.0 in /workspace/.pyenv_mirror/user/3.8.18/lib/python3.8/site-packages (from -r /workspace/brain-tumor-detection/requirements.txt (line 6)) (4.12.0)\n",
            "Requirement already satisfied: streamlit==0.85.0 in /workspace/.pyenv_mirror/user/3.8.18/lib/python3.8/site-packages (from -r /workspace/brain-tumor-detection/requirements.txt (line 8)) (0.85.0)\n",
            "Requirement already satisfied: scikit-learn==0.24.2 in /workspace/.pyenv_mirror/user/3.8.18/lib/python3.8/site-packages (from -r /workspace/brain-tumor-detection/requirements.txt (line 10)) (0.24.2)\n",
            "Requirement already satisfied: tensorflow-cpu==2.6.0 in /workspace/.pyenv_mirror/user/3.8.18/lib/python3.8/site-packages (from -r /workspace/brain-tumor-detection/requirements.txt (line 11)) (2.6.0)\n",
            "Requirement already satisfied: keras==2.6.0 in /workspace/.pyenv_mirror/user/3.8.18/lib/python3.8/site-packages (from -r /workspace/brain-tumor-detection/requirements.txt (line 12)) (2.6.0)\n",
            "Requirement already satisfied: protobuf==3.20 in /workspace/.pyenv_mirror/user/3.8.18/lib/python3.8/site-packages (from -r /workspace/brain-tumor-detection/requirements.txt (line 13)) (3.20.0)\n",
            "Requirement already satisfied: altair<5 in /workspace/.pyenv_mirror/user/3.8.18/lib/python3.8/site-packages (from -r /workspace/brain-tumor-detection/requirements.txt (line 14)) (4.2.2)\n",
            "Requirement already satisfied: python-dateutil>=2.7.3 in /workspace/.pyenv_mirror/user/3.8.18/lib/python3.8/site-packages (from pandas==1.1.2->-r /workspace/brain-tumor-detection/requirements.txt (line 3)) (2.8.2)\n",
            "Requirement already satisfied: pytz>=2017.2 in /workspace/.pyenv_mirror/user/3.8.18/lib/python3.8/site-packages (from pandas==1.1.2->-r /workspace/brain-tumor-detection/requirements.txt (line 3)) (2024.1)\n",
            "Requirement already satisfied: cycler>=0.10 in /workspace/.pyenv_mirror/user/3.8.18/lib/python3.8/site-packages (from matplotlib==3.3.1->-r /workspace/brain-tumor-detection/requirements.txt (line 4)) (0.12.1)\n",
            "Requirement already satisfied: pyparsing!=2.0.4,!=2.1.2,!=2.1.6,>=2.0.3 in /workspace/.pyenv_mirror/user/3.8.18/lib/python3.8/site-packages (from matplotlib==3.3.1->-r /workspace/brain-tumor-detection/requirements.txt (line 4)) (3.1.1)\n",
            "Requirement already satisfied: certifi>=2020.06.20 in /workspace/.pyenv_mirror/user/3.8.18/lib/python3.8/site-packages (from matplotlib==3.3.1->-r /workspace/brain-tumor-detection/requirements.txt (line 4)) (2024.2.2)\n",
            "Requirement already satisfied: kiwisolver>=1.0.1 in /workspace/.pyenv_mirror/user/3.8.18/lib/python3.8/site-packages (from matplotlib==3.3.1->-r /workspace/brain-tumor-detection/requirements.txt (line 4)) (1.4.5)\n",
            "Requirement already satisfied: pillow>=6.2.0 in /workspace/.pyenv_mirror/user/3.8.18/lib/python3.8/site-packages (from matplotlib==3.3.1->-r /workspace/brain-tumor-detection/requirements.txt (line 4)) (10.2.0)\n",
            "Requirement already satisfied: scipy>=1.0 in /workspace/.pyenv_mirror/user/3.8.18/lib/python3.8/site-packages (from seaborn==0.11.0->-r /workspace/brain-tumor-detection/requirements.txt (line 5)) (1.9.3)\n",
            "Requirement already satisfied: six in /workspace/.pyenv_mirror/user/3.8.18/lib/python3.8/site-packages (from plotly==4.12.0->-r /workspace/brain-tumor-detection/requirements.txt (line 6)) (1.15.0)\n",
            "Requirement already satisfied: retrying>=1.3.3 in /workspace/.pyenv_mirror/user/3.8.18/lib/python3.8/site-packages (from plotly==4.12.0->-r /workspace/brain-tumor-detection/requirements.txt (line 6)) (1.3.4)\n",
            "Requirement already satisfied: astor in /workspace/.pyenv_mirror/user/3.8.18/lib/python3.8/site-packages (from streamlit==0.85.0->-r /workspace/brain-tumor-detection/requirements.txt (line 8)) (0.8.1)\n",
            "Requirement already satisfied: click<8.0,>=7.0 in /workspace/.pyenv_mirror/user/3.8.18/lib/python3.8/site-packages (from streamlit==0.85.0->-r /workspace/brain-tumor-detection/requirements.txt (line 8)) (7.1.2)\n",
            "Requirement already satisfied: blinker in /workspace/.pyenv_mirror/user/3.8.18/lib/python3.8/site-packages (from streamlit==0.85.0->-r /workspace/brain-tumor-detection/requirements.txt (line 8)) (1.7.0)\n",
            "Requirement already satisfied: tornado>=5.0 in /workspace/.pyenv_mirror/user/3.8.18/lib/python3.8/site-packages (from streamlit==0.85.0->-r /workspace/brain-tumor-detection/requirements.txt (line 8)) (6.4)\n",
            "Requirement already satisfied: cachetools>=4.0 in /workspace/.pyenv_mirror/user/3.8.18/lib/python3.8/site-packages (from streamlit==0.85.0->-r /workspace/brain-tumor-detection/requirements.txt (line 8)) (5.3.2)\n",
            "Requirement already satisfied: toml in /workspace/.pyenv_mirror/user/3.8.18/lib/python3.8/site-packages (from streamlit==0.85.0->-r /workspace/brain-tumor-detection/requirements.txt (line 8)) (0.10.2)\n",
            "Requirement already satisfied: tzlocal in /workspace/.pyenv_mirror/user/3.8.18/lib/python3.8/site-packages (from streamlit==0.85.0->-r /workspace/brain-tumor-detection/requirements.txt (line 8)) (5.2)\n",
            "Requirement already satisfied: watchdog in /workspace/.pyenv_mirror/user/3.8.18/lib/python3.8/site-packages (from streamlit==0.85.0->-r /workspace/brain-tumor-detection/requirements.txt (line 8)) (4.0.0)\n",
            "Requirement already satisfied: attrs in /workspace/.pyenv_mirror/user/3.8.18/lib/python3.8/site-packages (from streamlit==0.85.0->-r /workspace/brain-tumor-detection/requirements.txt (line 8)) (23.2.0)\n",
            "Requirement already satisfied: requests in /workspace/.pyenv_mirror/user/3.8.18/lib/python3.8/site-packages (from streamlit==0.85.0->-r /workspace/brain-tumor-detection/requirements.txt (line 8)) (2.31.0)\n",
            "Requirement already satisfied: packaging in /workspace/.pyenv_mirror/user/3.8.18/lib/python3.8/site-packages (from streamlit==0.85.0->-r /workspace/brain-tumor-detection/requirements.txt (line 8)) (23.2)\n",
            "Requirement already satisfied: pydeck>=0.1.dev5 in /workspace/.pyenv_mirror/user/3.8.18/lib/python3.8/site-packages (from streamlit==0.85.0->-r /workspace/brain-tumor-detection/requirements.txt (line 8)) (0.8.1b0)\n",
            "Requirement already satisfied: validators in /workspace/.pyenv_mirror/user/3.8.18/lib/python3.8/site-packages (from streamlit==0.85.0->-r /workspace/brain-tumor-detection/requirements.txt (line 8)) (0.22.0)\n",
            "Requirement already satisfied: gitpython in /workspace/.pyenv_mirror/user/3.8.18/lib/python3.8/site-packages (from streamlit==0.85.0->-r /workspace/brain-tumor-detection/requirements.txt (line 8)) (3.1.42)\n",
            "Requirement already satisfied: base58 in /workspace/.pyenv_mirror/user/3.8.18/lib/python3.8/site-packages (from streamlit==0.85.0->-r /workspace/brain-tumor-detection/requirements.txt (line 8)) (2.1.1)\n",
            "Requirement already satisfied: pyarrow in /workspace/.pyenv_mirror/user/3.8.18/lib/python3.8/site-packages (from streamlit==0.85.0->-r /workspace/brain-tumor-detection/requirements.txt (line 8)) (15.0.0)\n",
            "Requirement already satisfied: threadpoolctl>=2.0.0 in /workspace/.pyenv_mirror/user/3.8.18/lib/python3.8/site-packages (from scikit-learn==0.24.2->-r /workspace/brain-tumor-detection/requirements.txt (line 10)) (3.3.0)\n",
            "Requirement already satisfied: joblib>=0.11 in /workspace/.pyenv_mirror/user/3.8.18/lib/python3.8/site-packages (from scikit-learn==0.24.2->-r /workspace/brain-tumor-detection/requirements.txt (line 10)) (1.3.2)\n",
            "Requirement already satisfied: absl-py~=0.10 in /workspace/.pyenv_mirror/user/3.8.18/lib/python3.8/site-packages (from tensorflow-cpu==2.6.0->-r /workspace/brain-tumor-detection/requirements.txt (line 11)) (0.15.0)\n",
            "Requirement already satisfied: keras-preprocessing~=1.1.2 in /workspace/.pyenv_mirror/user/3.8.18/lib/python3.8/site-packages (from tensorflow-cpu==2.6.0->-r /workspace/brain-tumor-detection/requirements.txt (line 11)) (1.1.2)\n",
            "Requirement already satisfied: tensorboard~=2.6 in /workspace/.pyenv_mirror/user/3.8.18/lib/python3.8/site-packages (from tensorflow-cpu==2.6.0->-r /workspace/brain-tumor-detection/requirements.txt (line 11)) (2.14.0)\n",
            "Requirement already satisfied: astunparse~=1.6.3 in /workspace/.pyenv_mirror/user/3.8.18/lib/python3.8/site-packages (from tensorflow-cpu==2.6.0->-r /workspace/brain-tumor-detection/requirements.txt (line 11)) (1.6.3)\n",
            "Requirement already satisfied: wrapt~=1.12.1 in /workspace/.pyenv_mirror/user/3.8.18/lib/python3.8/site-packages (from tensorflow-cpu==2.6.0->-r /workspace/brain-tumor-detection/requirements.txt (line 11)) (1.12.1)\n",
            "Requirement already satisfied: typing-extensions~=3.7.4 in /workspace/.pyenv_mirror/user/3.8.18/lib/python3.8/site-packages (from tensorflow-cpu==2.6.0->-r /workspace/brain-tumor-detection/requirements.txt (line 11)) (3.7.4.3)\n",
            "Requirement already satisfied: tensorflow-estimator~=2.6 in /workspace/.pyenv_mirror/user/3.8.18/lib/python3.8/site-packages (from tensorflow-cpu==2.6.0->-r /workspace/brain-tumor-detection/requirements.txt (line 11)) (2.15.0)\n",
            "Requirement already satisfied: google-pasta~=0.2 in /workspace/.pyenv_mirror/user/3.8.18/lib/python3.8/site-packages (from tensorflow-cpu==2.6.0->-r /workspace/brain-tumor-detection/requirements.txt (line 11)) (0.2.0)\n",
            "Requirement already satisfied: h5py~=3.1.0 in /workspace/.pyenv_mirror/user/3.8.18/lib/python3.8/site-packages (from tensorflow-cpu==2.6.0->-r /workspace/brain-tumor-detection/requirements.txt (line 11)) (3.1.0)\n",
            "Requirement already satisfied: flatbuffers~=1.12.0 in /workspace/.pyenv_mirror/user/3.8.18/lib/python3.8/site-packages (from tensorflow-cpu==2.6.0->-r /workspace/brain-tumor-detection/requirements.txt (line 11)) (1.12)\n",
            "Requirement already satisfied: grpcio<2.0,>=1.37.0 in /workspace/.pyenv_mirror/user/3.8.18/lib/python3.8/site-packages (from tensorflow-cpu==2.6.0->-r /workspace/brain-tumor-detection/requirements.txt (line 11)) (1.60.1)\n",
            "Requirement already satisfied: wheel~=0.35 in /workspace/.pyenv_mirror/user/3.8.18/lib/python3.8/site-packages (from tensorflow-cpu==2.6.0->-r /workspace/brain-tumor-detection/requirements.txt (line 11)) (0.42.0)\n",
            "Requirement already satisfied: termcolor~=1.1.0 in /workspace/.pyenv_mirror/user/3.8.18/lib/python3.8/site-packages (from tensorflow-cpu==2.6.0->-r /workspace/brain-tumor-detection/requirements.txt (line 11)) (1.1.0)\n",
            "Requirement already satisfied: opt-einsum~=3.3.0 in /workspace/.pyenv_mirror/user/3.8.18/lib/python3.8/site-packages (from tensorflow-cpu==2.6.0->-r /workspace/brain-tumor-detection/requirements.txt (line 11)) (3.3.0)\n",
            "Requirement already satisfied: clang~=5.0 in /workspace/.pyenv_mirror/user/3.8.18/lib/python3.8/site-packages (from tensorflow-cpu==2.6.0->-r /workspace/brain-tumor-detection/requirements.txt (line 11)) (5.0)\n",
            "Requirement already satisfied: gast==0.4.0 in /workspace/.pyenv_mirror/user/3.8.18/lib/python3.8/site-packages (from tensorflow-cpu==2.6.0->-r /workspace/brain-tumor-detection/requirements.txt (line 11)) (0.4.0)\n",
            "Requirement already satisfied: entrypoints in /workspace/.pyenv_mirror/user/3.8.18/lib/python3.8/site-packages (from altair<5->-r /workspace/brain-tumor-detection/requirements.txt (line 14)) (0.4)\n",
            "Requirement already satisfied: jinja2 in /workspace/.pyenv_mirror/user/3.8.18/lib/python3.8/site-packages (from altair<5->-r /workspace/brain-tumor-detection/requirements.txt (line 14)) (3.1.3)\n",
            "Requirement already satisfied: jsonschema>=3.0 in /workspace/.pyenv_mirror/user/3.8.18/lib/python3.8/site-packages (from altair<5->-r /workspace/brain-tumor-detection/requirements.txt (line 14)) (4.21.1)\n",
            "Requirement already satisfied: toolz in /workspace/.pyenv_mirror/user/3.8.18/lib/python3.8/site-packages (from altair<5->-r /workspace/brain-tumor-detection/requirements.txt (line 14)) (0.12.1)\n",
            "Requirement already satisfied: jsonschema-specifications>=2023.03.6 in /workspace/.pyenv_mirror/user/3.8.18/lib/python3.8/site-packages (from jsonschema>=3.0->altair<5->-r /workspace/brain-tumor-detection/requirements.txt (line 14)) (2023.12.1)\n",
            "Requirement already satisfied: referencing>=0.28.4 in /workspace/.pyenv_mirror/user/3.8.18/lib/python3.8/site-packages (from jsonschema>=3.0->altair<5->-r /workspace/brain-tumor-detection/requirements.txt (line 14)) (0.33.0)\n",
            "Requirement already satisfied: rpds-py>=0.7.1 in /workspace/.pyenv_mirror/user/3.8.18/lib/python3.8/site-packages (from jsonschema>=3.0->altair<5->-r /workspace/brain-tumor-detection/requirements.txt (line 14)) (0.18.0)\n",
            "Requirement already satisfied: importlib-resources>=1.4.0 in /workspace/.pyenv_mirror/user/3.8.18/lib/python3.8/site-packages (from jsonschema>=3.0->altair<5->-r /workspace/brain-tumor-detection/requirements.txt (line 14)) (6.1.1)\n",
            "Requirement already satisfied: pkgutil-resolve-name>=1.3.10 in /workspace/.pyenv_mirror/user/3.8.18/lib/python3.8/site-packages (from jsonschema>=3.0->altair<5->-r /workspace/brain-tumor-detection/requirements.txt (line 14)) (1.3.10)\n",
            "Requirement already satisfied: MarkupSafe>=2.0 in /workspace/.pyenv_mirror/user/3.8.18/lib/python3.8/site-packages (from jinja2->altair<5->-r /workspace/brain-tumor-detection/requirements.txt (line 14)) (2.1.5)\n",
            "Requirement already satisfied: tensorboard-data-server<0.8.0,>=0.7.0 in /workspace/.pyenv_mirror/user/3.8.18/lib/python3.8/site-packages (from tensorboard~=2.6->tensorflow-cpu==2.6.0->-r /workspace/brain-tumor-detection/requirements.txt (line 11)) (0.7.2)\n",
            "Requirement already satisfied: google-auth-oauthlib<1.1,>=0.5 in /workspace/.pyenv_mirror/user/3.8.18/lib/python3.8/site-packages (from tensorboard~=2.6->tensorflow-cpu==2.6.0->-r /workspace/brain-tumor-detection/requirements.txt (line 11)) (1.0.0)\n",
            "Requirement already satisfied: setuptools>=41.0.0 in /home/gitpod/.pyenv/versions/3.8.18/lib/python3.8/site-packages (from tensorboard~=2.6->tensorflow-cpu==2.6.0->-r /workspace/brain-tumor-detection/requirements.txt (line 11)) (56.0.0)\n",
            "Requirement already satisfied: google-auth<3,>=1.6.3 in /workspace/.pyenv_mirror/user/3.8.18/lib/python3.8/site-packages (from tensorboard~=2.6->tensorflow-cpu==2.6.0->-r /workspace/brain-tumor-detection/requirements.txt (line 11)) (2.28.0)\n",
            "Requirement already satisfied: markdown>=2.6.8 in /workspace/.pyenv_mirror/user/3.8.18/lib/python3.8/site-packages (from tensorboard~=2.6->tensorflow-cpu==2.6.0->-r /workspace/brain-tumor-detection/requirements.txt (line 11)) (3.5.2)\n",
            "Requirement already satisfied: werkzeug>=1.0.1 in /workspace/.pyenv_mirror/user/3.8.18/lib/python3.8/site-packages (from tensorboard~=2.6->tensorflow-cpu==2.6.0->-r /workspace/brain-tumor-detection/requirements.txt (line 11)) (3.0.1)\n",
            "Requirement already satisfied: idna<4,>=2.5 in /workspace/.pyenv_mirror/user/3.8.18/lib/python3.8/site-packages (from requests->streamlit==0.85.0->-r /workspace/brain-tumor-detection/requirements.txt (line 8)) (3.6)\n",
            "Requirement already satisfied: charset-normalizer<4,>=2 in /workspace/.pyenv_mirror/user/3.8.18/lib/python3.8/site-packages (from requests->streamlit==0.85.0->-r /workspace/brain-tumor-detection/requirements.txt (line 8)) (3.3.2)\n",
            "Requirement already satisfied: urllib3<3,>=1.21.1 in /workspace/.pyenv_mirror/user/3.8.18/lib/python3.8/site-packages (from requests->streamlit==0.85.0->-r /workspace/brain-tumor-detection/requirements.txt (line 8)) (2.2.1)\n",
            "Requirement already satisfied: gitdb<5,>=4.0.1 in /workspace/.pyenv_mirror/user/3.8.18/lib/python3.8/site-packages (from gitpython->streamlit==0.85.0->-r /workspace/brain-tumor-detection/requirements.txt (line 8)) (4.0.11)\n",
            "Requirement already satisfied: backports.zoneinfo in /workspace/.pyenv_mirror/user/3.8.18/lib/python3.8/site-packages (from tzlocal->streamlit==0.85.0->-r /workspace/brain-tumor-detection/requirements.txt (line 8)) (0.2.1)\n",
            "Requirement already satisfied: smmap<6,>=3.0.1 in /workspace/.pyenv_mirror/user/3.8.18/lib/python3.8/site-packages (from gitdb<5,>=4.0.1->gitpython->streamlit==0.85.0->-r /workspace/brain-tumor-detection/requirements.txt (line 8)) (5.0.1)\n",
            "Requirement already satisfied: rsa<5,>=3.1.4 in /workspace/.pyenv_mirror/user/3.8.18/lib/python3.8/site-packages (from google-auth<3,>=1.6.3->tensorboard~=2.6->tensorflow-cpu==2.6.0->-r /workspace/brain-tumor-detection/requirements.txt (line 11)) (4.9)\n",
            "Requirement already satisfied: pyasn1-modules>=0.2.1 in /workspace/.pyenv_mirror/user/3.8.18/lib/python3.8/site-packages (from google-auth<3,>=1.6.3->tensorboard~=2.6->tensorflow-cpu==2.6.0->-r /workspace/brain-tumor-detection/requirements.txt (line 11)) (0.3.0)\n",
            "Requirement already satisfied: requests-oauthlib>=0.7.0 in /workspace/.pyenv_mirror/user/3.8.18/lib/python3.8/site-packages (from google-auth-oauthlib<1.1,>=0.5->tensorboard~=2.6->tensorflow-cpu==2.6.0->-r /workspace/brain-tumor-detection/requirements.txt (line 11)) (1.3.1)\n",
            "Requirement already satisfied: zipp>=3.1.0 in /workspace/.pyenv_mirror/user/3.8.18/lib/python3.8/site-packages (from importlib-resources>=1.4.0->jsonschema>=3.0->altair<5->-r /workspace/brain-tumor-detection/requirements.txt (line 14)) (3.17.0)\n",
            "Requirement already satisfied: importlib-metadata>=4.4 in /workspace/.pyenv_mirror/user/3.8.18/lib/python3.8/site-packages (from markdown>=2.6.8->tensorboard~=2.6->tensorflow-cpu==2.6.0->-r /workspace/brain-tumor-detection/requirements.txt (line 11)) (7.0.1)\n",
            "Requirement already satisfied: pyasn1<0.6.0,>=0.4.6 in /workspace/.pyenv_mirror/user/3.8.18/lib/python3.8/site-packages (from pyasn1-modules>=0.2.1->google-auth<3,>=1.6.3->tensorboard~=2.6->tensorflow-cpu==2.6.0->-r /workspace/brain-tumor-detection/requirements.txt (line 11)) (0.5.1)\n",
            "Requirement already satisfied: oauthlib>=3.0.0 in /workspace/.pyenv_mirror/user/3.8.18/lib/python3.8/site-packages (from requests-oauthlib>=0.7.0->google-auth-oauthlib<1.1,>=0.5->tensorboard~=2.6->tensorflow-cpu==2.6.0->-r /workspace/brain-tumor-detection/requirements.txt (line 11)) (3.2.2)\n",
            "\n",
            "\u001b[1m[\u001b[0m\u001b[34;49mnotice\u001b[0m\u001b[1;39;49m]\u001b[0m\u001b[39;49m A new release of pip is available: \u001b[0m\u001b[31;49m23.0.1\u001b[0m\u001b[39;49m -> \u001b[0m\u001b[32;49m24.0\u001b[0m\n",
            "\u001b[1m[\u001b[0m\u001b[34;49mnotice\u001b[0m\u001b[1;39;49m]\u001b[0m\u001b[39;49m To update, run: \u001b[0m\u001b[32;49mpip install --upgrade pip\u001b[0m\n",
            "Note: you may need to restart the kernel to use updated packages.\n"
          ]
        }
      ],
      "source": [
        "%pip install -r /workspace/brain-tumor-detection/requirements.txt"
      ]
    },
    {
      "cell_type": "code",
      "execution_count": 2,
      "metadata": {},
      "outputs": [],
      "source": [
        "import numpy\n",
        "import os"
      ]
    },
    {
      "cell_type": "markdown",
      "metadata": {
        "id": "cqP-UeN-z3i2"
      },
      "source": [
        "## Change working directory"
      ]
    },
    {
      "cell_type": "markdown",
      "metadata": {},
      "source": [
        "* The notebooks are in a sub-folder of this directory, therefore, when running the notebook in this editor it's a necessary requirement to change the working directory"
      ]
    },
    {
      "cell_type": "markdown",
      "metadata": {},
      "source": [
        "We need to change the working directory from its current folder to its parent folder"
      ]
    },
    {
      "cell_type": "code",
      "execution_count": 3,
      "metadata": {
        "id": "wZfF_j-Bz3i4",
        "outputId": "66943449-1436-4c3d-85c7-b85f9f78349b"
      },
      "outputs": [
        {
          "data": {
            "text/plain": [
              "'/workspace/brain-tumor-detection/jupyter_notebooks'"
            ]
          },
          "execution_count": 3,
          "metadata": {},
          "output_type": "execute_result"
        }
      ],
      "source": [
        "current_dir = os.getcwd()\n",
        "current_dir"
      ]
    },
    {
      "cell_type": "markdown",
      "metadata": {
        "id": "9MWW8E7lz3i7"
      },
      "source": [
        "We want to make the parent of the current directory the new current directory\n",
        "* os.path.dirname() gets the parent directory\n",
        "* os.chir() defines the new current directory"
      ]
    },
    {
      "cell_type": "code",
      "execution_count": 4,
      "metadata": {
        "id": "TwHsQRWjz3i9",
        "outputId": "86849db3-cd2f-4cc5-ebb8-2d0caafa1a2c"
      },
      "outputs": [
        {
          "name": "stdout",
          "output_type": "stream",
          "text": [
            "You set a new current directory\n"
          ]
        }
      ],
      "source": [
        "os.chdir(os.path.dirname(current_dir))\n",
        "print(\"You set a new current directory\")"
      ]
    },
    {
      "cell_type": "markdown",
      "metadata": {
        "id": "M_xPk_Ijz3i-"
      },
      "source": [
        "Confirm the new current directory"
      ]
    },
    {
      "cell_type": "code",
      "execution_count": 5,
      "metadata": {
        "id": "vz3S-_kjz3jA",
        "outputId": "00b79ae4-75d0-4a96-d193-ac9ef9847ea2"
      },
      "outputs": [
        {
          "data": {
            "text/plain": [
              "'/workspace/brain-tumor-detection'"
            ]
          },
          "execution_count": 5,
          "metadata": {},
          "output_type": "execute_result"
        }
      ],
      "source": [
        "current_dir = os.getcwd()\n",
        "current_dir"
      ]
    },
    {
      "cell_type": "markdown",
      "metadata": {
        "id": "-mavJ8DibrcQ"
      },
      "source": [
        "# Section 1"
      ]
    },
    {
      "cell_type": "markdown",
      "metadata": {},
      "source": [
        "Section 1 content"
      ]
    },
    {
      "cell_type": "code",
      "execution_count": null,
      "metadata": {},
      "outputs": [],
      "source": []
    },
    {
      "cell_type": "markdown",
      "metadata": {
        "id": "ZY3l0-AxO93d"
      },
      "source": [
        "---"
      ]
    },
    {
      "cell_type": "markdown",
      "metadata": {
        "id": "uFQo3ycuO-v6"
      },
      "source": [
        "# Section 2"
      ]
    },
    {
      "cell_type": "markdown",
      "metadata": {},
      "source": [
        "Section 2 content"
      ]
    },
    {
      "cell_type": "code",
      "execution_count": null,
      "metadata": {},
      "outputs": [],
      "source": []
    },
    {
      "cell_type": "markdown",
      "metadata": {},
      "source": [
        "---"
      ]
    },
    {
      "cell_type": "markdown",
      "metadata": {},
      "source": [
        "NOTE"
      ]
    },
    {
      "cell_type": "markdown",
      "metadata": {},
      "source": [
        "* You may add as many sections as you want, as long as it supports your project workflow.\n",
        "* All notebook's cells should be run top-down (you can't create a dynamic wherein a given point you need to go back to a previous cell to execute some task, like go back to a previous cell and refresh a variable content)"
      ]
    },
    {
      "cell_type": "markdown",
      "metadata": {},
      "source": [
        "---"
      ]
    },
    {
      "cell_type": "markdown",
      "metadata": {
        "id": "ltNetd085qHf"
      },
      "source": [
        "# Push files to Repo"
      ]
    },
    {
      "cell_type": "markdown",
      "metadata": {},
      "source": [
        "* In case you don't need to push files to Repo, you may replace this section with \"Conclusions and Next Steps\" and state your conclusions and next steps."
      ]
    },
    {
      "cell_type": "code",
      "execution_count": null,
      "metadata": {
        "id": "aKlnIozA4eQO",
        "outputId": "fd09bc1f-adb1-4511-f6ce-492a6af570c0"
      },
      "outputs": [],
      "source": [
        "import os\n",
        "try:\n",
        "  # create here your folder\n",
        "  # os.makedirs(name='')\n",
        "except Exception as e:\n",
        "  print(e)\n"
      ]
    }
  ],
  "metadata": {
    "accelerator": "GPU",
    "colab": {
      "name": "Data Practitioner Jupyter Notebook.ipynb",
      "provenance": [],
      "toc_visible": true
    },
    "interpreter": {
      "hash": "8b8334dab9339717f727a1deaf837b322d7a41c20d15cc86be99a8e69ceec8ce"
    },
    "kernelspec": {
      "display_name": "Python 3.8.12 64-bit ('3.8.12': pyenv)",
      "name": "python3"
    },
    "language_info": {
      "codemirror_mode": {
        "name": "ipython",
        "version": 3
      },
      "file_extension": ".py",
      "mimetype": "text/x-python",
      "name": "python",
      "nbconvert_exporter": "python",
      "pygments_lexer": "ipython3",
      "version": "3.8.18"
    },
    "orig_nbformat": 2
  },
  "nbformat": 4,
  "nbformat_minor": 2
}
